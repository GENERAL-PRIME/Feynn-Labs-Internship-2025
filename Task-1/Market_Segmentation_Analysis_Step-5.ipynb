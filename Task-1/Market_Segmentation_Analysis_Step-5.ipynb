{
 "cells": [
  {
   "cell_type": "markdown",
   "id": "7e0d65dd",
   "metadata": {},
   "source": [
    "# Market Segmentation Analysis - Step 5 (Python Conversion)\n",
    "This notebook replicates the R code examples in Python using pandas, numpy, and scikit-learn."
   ]
  },
  {
   "cell_type": "markdown",
   "id": "60b820da",
   "metadata": {},
   "source": [
    "## 1. Loading Sample Data (Tourist Activities Example)\n",
    "Simulating the tourist activities dataset as described in the R code."
   ]
  },
  {
   "cell_type": "code",
   "execution_count": null,
   "id": "ab944679",
   "metadata": {},
   "outputs": [],
   "source": [
    "\n",
    "import pandas as pd\n",
    "import numpy as np\n",
    "\n",
    "# Sample data (Tourist activities: BEACH, ACTION, CULTURE)\n",
    "data = {\n",
    "    \"Name\": [\"Anna\", \"Bill\", \"Frank\", \"Julia\", \"Maria\", \"Michael\", \"Tom\"],\n",
    "    \"Beach\": [100, 100, 60, 70, 80, 0, 50],\n",
    "    \"Action\": [0, 0, 40, 0, 0, 90, 20],\n",
    "    \"Culture\": [0, 0, 0, 30, 20, 10, 30]\n",
    "}\n",
    "\n",
    "df = pd.DataFrame(data)\n",
    "df.set_index(\"Name\", inplace=True)\n",
    "df\n"
   ]
  },
  {
   "cell_type": "markdown",
   "id": "d041462a",
   "metadata": {},
   "source": [
    "## 2. Distance Calculations\n",
    "Calculating Euclidean and Manhattan distances."
   ]
  },
  {
   "cell_type": "code",
   "execution_count": null,
   "id": "3ef517cf",
   "metadata": {},
   "outputs": [],
   "source": [
    "\n",
    "from scipy.spatial.distance import pdist, squareform\n",
    "\n",
    "# Euclidean Distance\n",
    "euclidean_dist = pd.DataFrame(squareform(pdist(df, metric='euclidean')), \n",
    "                              index=df.index, columns=df.index)\n",
    "print(\"Euclidean Distance Matrix:\")\n",
    "euclidean_dist.round(2)\n"
   ]
  },
  {
   "cell_type": "code",
   "execution_count": null,
   "id": "c3a2a794",
   "metadata": {},
   "outputs": [],
   "source": [
    "\n",
    "# Manhattan Distance\n",
    "manhattan_dist = pd.DataFrame(squareform(pdist(df, metric='cityblock')), \n",
    "                              index=df.index, columns=df.index)\n",
    "print(\"Manhattan Distance Matrix:\")\n",
    "manhattan_dist\n"
   ]
  },
  {
   "cell_type": "markdown",
   "id": "c9ffb669",
   "metadata": {},
   "source": [
    "## 3. Hierarchical Clustering and Dendrogram\n",
    "Using Scipy for hierarchical clustering."
   ]
  },
  {
   "cell_type": "code",
   "execution_count": null,
   "id": "d23f7ad0",
   "metadata": {},
   "outputs": [],
   "source": [
    "\n",
    "import matplotlib.pyplot as plt\n",
    "from scipy.cluster.hierarchy import dendrogram, linkage\n",
    "\n",
    "# Complete Linkage\n",
    "linkage_matrix = linkage(df, method='complete', metric='cityblock')\n",
    "\n",
    "# Plotting Dendrogram\n",
    "plt.figure(figsize=(10, 5))\n",
    "dendrogram(linkage_matrix, labels=df.index.tolist(), leaf_rotation=90)\n",
    "plt.title(\"Complete Linkage Dendrogram (Manhattan Distance)\")\n",
    "plt.tight_layout()\n",
    "plt.show()\n"
   ]
  },
  {
   "cell_type": "markdown",
   "id": "3ccf9d77",
   "metadata": {},
   "source": [
    "## 4. k-Means Clustering Example"
   ]
  },
  {
   "cell_type": "code",
   "execution_count": null,
   "id": "0e4a58dc",
   "metadata": {},
   "outputs": [],
   "source": [
    "\n",
    "from sklearn.cluster import KMeans\n",
    "\n",
    "# Number of clusters\n",
    "kmeans = KMeans(n_clusters=3, random_state=1234, n_init=10)\n",
    "df['Cluster'] = kmeans.fit_predict(df)\n",
    "\n",
    "# Show results\n",
    "df\n"
   ]
  },
  {
   "cell_type": "markdown",
   "id": "a79d6c50",
   "metadata": {},
   "source": [
    "## 5. Visualize Cluster Assignments"
   ]
  },
  {
   "cell_type": "code",
   "execution_count": null,
   "id": "14b11b8e",
   "metadata": {},
   "outputs": [],
   "source": [
    "\n",
    "import seaborn as sns\n",
    "\n",
    "sns.pairplot(df.reset_index(), hue='Cluster', vars=[\"Beach\", \"Action\", \"Culture\"], palette='Set2')\n",
    "plt.suptitle(\"Cluster Visualization\", y=1.02)\n",
    "plt.show()\n"
   ]
  }
 ],
 "metadata": {},
 "nbformat": 4,
 "nbformat_minor": 5
}
